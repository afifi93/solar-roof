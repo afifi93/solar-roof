{
 "cells": [
  {
   "cell_type": "code",
   "execution_count": 1,
   "metadata": {},
   "outputs": [
    {
     "name": "stderr",
     "output_type": "stream",
     "text": [
      "Using TensorFlow backend.\n"
     ]
    }
   ],
   "source": [
    "%run Preprocess.ipynb"
   ]
  },
  {
   "cell_type": "code",
   "execution_count": 2,
   "metadata": {},
   "outputs": [],
   "source": [
    "data_gen_args = dict(rotation_range = 0.2,\n",
    "                     width_shift_range = 0.05,\n",
    "                     height_shift_range = 0.05,\n",
    "                     shear_range = 0.05,\n",
    "                     zoom_range = 0.05,\n",
    "                     horizontal_flip = True,\n",
    "                     fill_mode = 'nearest')\n",
    "myGenerator = trainGenerator(6, 'Data/aerialsample/Train', 'images', 'gt', \n",
    "                             data_gen_args, save_to_dir = 'Data/aerialsample/Train/aug')"
   ]
  },
  {
   "cell_type": "code",
   "execution_count": 3,
   "metadata": {},
   "outputs": [
    {
     "name": "stdout",
     "output_type": "stream",
     "text": [
      "Found 6 images belonging to 1 classes.\n",
      "Found 6 images belonging to 1 classes.\n"
     ]
    }
   ],
   "source": [
    "num_batch = 3\n",
    "for i, batch in enumerate(myGenerator):\n",
    "    if (i >= num_batch):\n",
    "        break"
   ]
  },
  {
   "cell_type": "code",
   "execution_count": 4,
   "metadata": {},
   "outputs": [],
   "source": [
    "image_arr, mask_arr = genTrainNpy('Data/aerialsample/Train/aug/', 'Data/aerialsample/Train/aug/')\n",
    "np.save('Data/image_arr.npy', image_arr)\n",
    "np.save('Data/mask_arr.npy', mask_arr)"
   ]
  },
  {
   "cell_type": "code",
   "execution_count": null,
   "metadata": {},
   "outputs": [],
   "source": []
  }
 ],
 "metadata": {
  "kernelspec": {
   "display_name": "Python 3",
   "language": "python",
   "name": "python3"
  },
  "language_info": {
   "codemirror_mode": {
    "name": "ipython",
    "version": 3
   },
   "file_extension": ".py",
   "mimetype": "text/x-python",
   "name": "python",
   "nbconvert_exporter": "python",
   "pygments_lexer": "ipython3",
   "version": "3.6.4"
  }
 },
 "nbformat": 4,
 "nbformat_minor": 2
}
