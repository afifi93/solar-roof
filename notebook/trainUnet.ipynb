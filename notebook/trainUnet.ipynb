{
 "cells": [
  {
   "cell_type": "code",
   "execution_count": null,
   "metadata": {},
   "outputs": [
    {
     "name": "stderr",
     "output_type": "stream",
     "text": [
      "Using TensorFlow backend.\n"
     ]
    }
   ],
   "source": [
    "%run Unet_v1.ipynb\n",
    "%run Preprocess.ipynb"
   ]
  },
  {
   "cell_type": "code",
   "execution_count": null,
   "metadata": {},
   "outputs": [
    {
     "name": "stdout",
     "output_type": "stream",
     "text": [
      "conv1 shape: (?, 4800, 4800, 64)\n",
      "conv1 shape: (?, 4800, 4800, 64)\n",
      "pool1 shape: (?, 2400, 2400, 64)\n",
      "conv2 shape: (?, 2400, 2400, 128)\n",
      "conv2 shape: (?, 2400, 2400, 128)\n",
      "pool2 shape: (?, 1200, 1200, 128)\n",
      "conv3 shape: (?, 1200, 1200, 256)\n",
      "conv3 shape: (?, 1200, 1200, 256)\n",
      "pool3 shape: (?, 600, 600, 256)\n",
      "conv4 shape: (?, 600, 600, 512)\n",
      "drop4 shape: (?, 600, 600, 512)\n",
      "pool4 shape: (?, 300, 300, 512)\n",
      "conv5 shape: (?, 300, 300, 1024)\n",
      "drop5 shape: (?, 300, 300, 1024)\n",
      "conv9 shape: (?, 4800, 4800, 2)\n",
      "conv10 shape: (?, 4800, 4800, 1)\n"
     ]
    },
    {
     "name": "stderr",
     "output_type": "stream",
     "text": [
      "/Users/JuliaChen/anaconda3/lib/python3.6/site-packages/ipykernel_launcher.py:73: UserWarning: Update your `Model` call to the Keras 2 API: `Model(inputs=Tensor(\"in..., outputs=Tensor(\"co...)`\n"
     ]
    },
    {
     "name": "stdout",
     "output_type": "stream",
     "text": [
      "Epoch 1/3\n",
      "Found 20 images belonging to 1 classes.\n",
      "Found 20 images belonging to 1 classes.\n"
     ]
    }
   ],
   "source": [
    "data_gen_args = dict()\n",
    "myGene = trainGenerator(5, 'Data/aerialsample/Train/images', 'output', 'output', data_gen_args, save_to_dir = None)\n",
    "model = unet()\n",
    "model_checkpoint = ModelCheckpoint('unet_aerial.hdf5', monitor = 'loss', verbose = 1, save_best_only = True)\n",
    "model.fit_generator(myGene, steps_per_epoch = 3, epochs = 3, callbacks = [model_checkpoint])"
   ]
  },
  {
   "cell_type": "code",
   "execution_count": null,
   "metadata": {},
   "outputs": [],
   "source": [
    "testGene = testGenerator('Data/aerialsample/test/image')\n",
    "model = unet()\n",
    "model.load_weights('unet_aerial.hdf5')\n",
    "results = model.predict_generator(testGene, 4, verbose = 1)\n",
    "saveResult('Data/aerialsample/test', results)"
   ]
  },
  {
   "cell_type": "code",
   "execution_count": null,
   "metadata": {},
   "outputs": [],
   "source": []
  }
 ],
 "metadata": {
  "kernelspec": {
   "display_name": "Python 3",
   "language": "python",
   "name": "python3"
  },
  "language_info": {
   "codemirror_mode": {
    "name": "ipython",
    "version": 3
   },
   "file_extension": ".py",
   "mimetype": "text/x-python",
   "name": "python",
   "nbconvert_exporter": "python",
   "pygments_lexer": "ipython3",
   "version": "3.6.4"
  }
 },
 "nbformat": 4,
 "nbformat_minor": 2
}
