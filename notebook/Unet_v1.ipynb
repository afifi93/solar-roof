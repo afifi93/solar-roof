{
 "cells": [
  {
   "cell_type": "code",
   "execution_count": 1,
   "metadata": {},
   "outputs": [
    {
     "name": "stderr",
     "output_type": "stream",
     "text": [
      "Using TensorFlow backend.\n"
     ]
    }
   ],
   "source": [
    "import os\n",
    "import numpy as np\n",
    "import skimage.io as io\n",
    "import skimage.transform as trans\n",
    "from keras.models import *\n",
    "from keras.layers import *\n",
    "from keras.optimizers import *\n",
    "from keras.callbacks import ModelCheckpoint, LearningRateScheduler\n",
    "from keras import backend as keras"
   ]
  },
  {
   "cell_type": "code",
   "execution_count": 2,
   "metadata": {},
   "outputs": [],
   "source": [
    "def unet(pretrained_weights = None, input_size = (4800, 4800, 1)):\n",
    "        \n",
    "        inputs = Input(input_size)\n",
    "        \n",
    "        conv1 = Conv2D(64, 3, activation = 'relu', padding = 'same', kernel_initializer = 'he_normal')(inputs)\n",
    "        print (\"conv1 shape:\", conv1.shape)\n",
    "        conv1 = Conv2D(64, 3, activation = 'relu', padding = 'same', kernel_initializer = 'he_normal')(conv1)\n",
    "        print (\"conv1 shape:\", conv1.shape)\n",
    "        pool1 = MaxPooling2D(pool_size = (2,2))(conv1)\n",
    "        print (\"pool1 shape:\", pool1.shape)\n",
    "        \n",
    "        conv2 = Conv2D(128, 3, activation  = 'relu', padding = 'same', kernel_initializer = 'he_normal')(pool1)\n",
    "        print (\"conv2 shape:\", conv2.shape)\n",
    "        conv2 = Conv2D(128, 3, activation = 'relu', padding = 'same', kernel_initializer = 'he_normal')(conv2)\n",
    "        print (\"conv2 shape:\", conv2.shape)\n",
    "        pool2 = MaxPooling2D(pool_size = (2,2))(conv2)\n",
    "        print (\"pool2 shape:\", pool2.shape)\n",
    "        \n",
    "        conv3 = Conv2D(256, 3, activation = 'relu', padding = 'same', kernel_initializer = 'he_normal')(pool2)\n",
    "        print (\"conv3 shape:\", conv3.shape)\n",
    "        conv3 = Conv2D(256, 3, activation = 'relu', padding = 'same', kernel_initializer = 'he_normal')(conv3)\n",
    "        print (\"conv3 shape:\", conv3.shape)\n",
    "        pool3 = MaxPooling2D(pool_size = (2,2))(conv3)\n",
    "        print (\"pool3 shape:\", pool3.shape)\n",
    "        \n",
    "        conv4 = Conv2D(512, 3, activation = 'relu', padding = 'same', kernel_initializer = 'he_normal')(pool3)\n",
    "        conv4 = Conv2D(512, 3, activation  = 'relu', padding = 'same', kernel_initializer = 'he_normal')(conv4)\n",
    "        print (\"conv4 shape:\", conv4.shape)\n",
    "        drop4 = Dropout(0.5)(conv4)\n",
    "        print (\"drop4 shape:\", drop4.shape)\n",
    "        pool4 = MaxPooling2D(pool_size = (2,2))(drop4)\n",
    "        print (\"pool4 shape:\", pool4.shape)\n",
    "        \n",
    "        conv5 = Conv2D(1024, 3, activation = 'relu', padding = 'same', kernel_initializer = 'he_normal')(pool4)\n",
    "        conv5 = Conv2D(1024, 3, activation = 'relu', padding = 'same', kernel_initializer = 'he_normal')(conv5)\n",
    "        print (\"conv5 shape:\", conv5.shape)\n",
    "        drop5 = Dropout(0.5)(conv5)\n",
    "        print (\"drop5 shape:\", drop5.shape)\n",
    "        \n",
    "        up6 = Conv2D(512, 2, activation = 'relu', padding = 'same', kernel_initializer = 'he_normal')(UpSampling2D(size = (2,2))(drop5))\n",
    "        #up6 = concatenate([UpSampling2D(size = (2,2))(drop5), drop4], axis = 3)\n",
    "        merge6 = concatenate([drop4, up6], axis = 3)\n",
    "        #merge6 = merge([drop4, up6], mode = 'concat', concat_axis = 3)\n",
    "        conv6 = Conv2D(512, 3, activation =  'relu', padding = 'same', kernel_initializer = 'he_normal')(merge6)\n",
    "        conv6 = Conv2D(512, 3, activation = 'relu', padding = 'same', kernel_initializer = 'he_normal')(conv6)\n",
    "        \n",
    "        up7 = Conv2D(256, 2, activation = 'relu', padding = 'same', kernel_initializer = 'he_normal')(UpSampling2D(size = (2,2))(conv6))\n",
    "        #up7 = concatenate([UpSampling2D(size = (2,2))(conv6), conv3], axis = 3)\n",
    "        merge7 = concatenate([conv3, up7], axis = 3)\n",
    "        #merge7 = merge([conv3, up7], mode = 'concat', concat_axis = 3)\n",
    "        conv7 = Conv2D(256, 3, activation = 'relu', padding = 'same', kernel_initializer = 'he_normal')(merge7)\n",
    "        conv7 = Conv2D(256, 3, activation = 'relu', padding = 'same', kernel_initializer = 'he_normal')(conv7)\n",
    "        \n",
    "        up8 = Conv2D(128, 2, activation = 'relu', padding = 'same', kernel_initializer = 'he_normal')(UpSampling2D(size = (2,2))(conv7))\n",
    "        #merge8 = merge([conv2, up8], mode = 'concat', concat_axis = 3)\n",
    "        merge8 = concatenate([conv2, up8], axis = 3)\n",
    "        #up8 = concatenate([UpSampling2D(size = (2,2))(conv7), conv2], axis = 3)\n",
    "        conv8 = Conv2D(128, 3, activation = 'relu', padding = 'same', kernel_initializer = 'he_normal')(merge8)\n",
    "        conv8 = Conv2D(128, 3, activation = 'relu', padding = 'same', kernel_initializer = 'he_normal')(conv8)\n",
    "        \n",
    "        up9 = Conv2D(64, 2, activation = 'relu', padding = 'same', kernel_initializer = 'he_normal')(UpSampling2D(size = (2,2))(conv8))\n",
    "        #merge9 = merge([conv1, up9], mode = 'concat', concat_axis = 3)\n",
    "        merge9 = concatenate([conv1, up9], axis = 3)\n",
    "        #up9 = concatenate([UpSampling2D(size = (2,2))(conv8), conv1], axis = 3)\n",
    "        conv9 = Conv2D(64, 3, activation = 'relu', padding = 'same', kernel_initializer = 'he_normal')(merge9)\n",
    "        conv9 = Conv2D(64, 3, activation = 'relu', padding = 'same', kernel_initializer = 'he_normal')(conv9)\n",
    "        conv9 = Conv2D(2, 3, activation = 'relu', padding = 'same', kernel_initializer = 'he_normal')(conv9)\n",
    "        print (\"conv9 shape:\", conv9.shape)\n",
    "        \n",
    "        conv10 = Conv2D(1, 1, activation = 'sigmoid')(conv9)\n",
    "        print (\"conv10 shape:\", conv10.shape)\n",
    "        \n",
    "        model = Model(input = inputs, output = conv10)\n",
    "        \n",
    "        model.compile(optimizer = Adam(lr = 1e-4), loss = 'binary_crossentropy', metrics = ['accuracy'])\n",
    "        \n",
    "        model.summary \n",
    "        \n",
    "        if (pretrained_weights):\n",
    "            model.load_weights(pretrained_weights)\n",
    "        \n",
    "        return model"
   ]
  },
  {
   "cell_type": "code",
   "execution_count": null,
   "metadata": {},
   "outputs": [],
   "source": []
  }
 ],
 "metadata": {
  "kernelspec": {
   "display_name": "Python 3",
   "language": "python",
   "name": "python3"
  },
  "language_info": {
   "codemirror_mode": {
    "name": "ipython",
    "version": 3
   },
   "file_extension": ".py",
   "mimetype": "text/x-python",
   "name": "python",
   "nbconvert_exporter": "python",
   "pygments_lexer": "ipython3",
   "version": "3.6.4"
  }
 },
 "nbformat": 4,
 "nbformat_minor": 2
}
