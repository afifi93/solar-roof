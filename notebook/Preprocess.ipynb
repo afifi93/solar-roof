{
 "cells": [
  {
   "cell_type": "code",
   "execution_count": 1,
   "metadata": {},
   "outputs": [
    {
     "name": "stderr",
     "output_type": "stream",
     "text": [
      "Using TensorFlow backend.\n"
     ]
    }
   ],
   "source": [
    "from __future__ import print_function\n",
    "from keras.preprocessing.image import ImageDataGenerator\n",
    "import numpy as np\n",
    "import os\n",
    "import glob\n",
    "import skimage.io as io\n",
    "import skimage.transform as trans"
   ]
  },
  {
   "cell_type": "code",
   "execution_count": 2,
   "metadata": {},
   "outputs": [],
   "source": [
    "Sky = [128, 128, 128]\n",
    "Building = [128, 0, 0]\n",
    "Pole = [192, 192, 128]\n",
    "Road = [128, 64, 128]\n",
    "Pavement = [60, 40, 222]\n",
    "Tree = [128, 128, 0]\n",
    "SignSymbol = [192, 128, 128]\n",
    "Fence = [64, 64, 128]\n",
    "Car = [64, 0, 128]\n",
    "Pedestrian = [64, 64, 0]\n",
    "Bicyclist = [0, 128, 192]\n",
    "Unlabelled = [0, 0, 0]\n",
    "\n",
    "COLOR_DICT = np.array([Sky, Building, Pole, Road, Pavement, Tree, SignSymbol, Fence, Car, Pedestrian, Bicyclist, Unlabelled])"
   ]
  },
  {
   "cell_type": "code",
   "execution_count": 3,
   "metadata": {},
   "outputs": [],
   "source": [
    "def adjustData(img, mask, flag_multi_class, num_class):\n",
    "    if (flag_multi_class):\n",
    "        img = img / 255\n",
    "        mask = mask[:, :, :, :, 0] if(len(maskshape) == 4) else mask[:, :, 0]\n",
    "        new_mask = np.zeros(mask.shape + (num_class,))\n",
    "        for i in range(num_class):\n",
    "            new_mask[mask == i, i] =1\n",
    "        new_mask = np.reshape(new_mask, (new_mask.shape[0], new_mask.shape[1] * new_mask.shape[2], new_mask.shape[3])) if flag_multi_class else np.reshape(new_mask, (new_mask.shape[0] * new_mask.shape[1], new_mask.shape[2]))\n",
    "        mask = new_mask\n",
    "    elif(np.max(img) > 1):\n",
    "        img = img / 255\n",
    "        mask = mask / 255\n",
    "        mask[mask > 0.5] = 1\n",
    "        mask[mask <= 0.5] = 0\n",
    "    return (img, mask)"
   ]
  },
  {
   "cell_type": "code",
   "execution_count": 4,
   "metadata": {},
   "outputs": [],
   "source": [
    "def trainGenerator(batch_size, train_path, image_folder, mask_folder, aug_dict, image_color_mode = 'grayscale', \n",
    "                  mask_color_mode = 'grayscale', image_save_prefix = 'image', mask_save_prefix = 'mask', \n",
    "                  flag_multi_class = False, num_class = 2, save_to_dir = 'Data/aerialsample/Train', target_size = (256, 256), seed = 1):\n",
    "    image_datagen = ImageDataGenerator(**aug_dict)\n",
    "    mask_datagen = ImageDataGenerator(**aug_dict)\n",
    "    image_generator = image_datagen.flow_from_directory(\n",
    "        train_path, \n",
    "        classes = [image_folder], \n",
    "        class_mode = None, \n",
    "        color_mode = image_color_mode, \n",
    "        target_size = target_size, \n",
    "        batch_size = batch_size, \n",
    "        save_to_dir = save_to_dir, \n",
    "        save_prefix = image_save_prefix, \n",
    "        seed = seed)\n",
    "    mask_generator = mask_datagen.flow_from_directory(\n",
    "        train_path, \n",
    "        classes = [mask_folder], \n",
    "        class_mode = None, \n",
    "        color_mode = mask_color_mode, \n",
    "        target_size = target_size, \n",
    "        batch_size = batch_size, \n",
    "        save_to_dir = save_to_dir, \n",
    "        save_prefix = mask_save_prefix, \n",
    "        seed = seed)\n",
    "    train_generator = zip(image_generator, mask_generator)\n",
    "    for (img, mask) in train_generator:\n",
    "        img, mask = adjustData(img, mask, flag_multi_class, num_class)\n",
    "        yield (img, mask)"
   ]
  },
  {
   "cell_type": "code",
   "execution_count": 5,
   "metadata": {},
   "outputs": [],
   "source": [
    "def testGenerator(test_path, num_image = 6, target_size = (256, 256), flag_multi_class = False, as_gray = False):\n",
    "    for i in range(num_image):\n",
    "        img = io.imread(os.path.join(test_path, '%d.png'%i), as_gray = as_gary)\n",
    "        img = img / 255\n",
    "        img = trans.resize(img, target_size)\n",
    "        img = np.reshape(img, img.shape+(1,)) if (not flag_multi_class) else img\n",
    "        img = np.reshape(img, (1,) + img.shape)\n",
    "        yield img"
   ]
  },
  {
   "cell_type": "code",
   "execution_count": 6,
   "metadata": {},
   "outputs": [],
   "source": [
    "def genTrainNpy(image_path, mask_path, flag_multi_class = False, num_class = 2, image_prefix = 'image', mask_prefix = 'mask', image_as_gray = False, mask_as_gray = False):\n",
    "    image_name_arr = glob.glob(os.path.join(image_path, '%s*.png'%image_prefix))\n",
    "    image_arr = []\n",
    "    mask_arr = []\n",
    "    for index, item in enumerate(image_name_arr):\n",
    "        img = io.imread(item, as_gray = image_as_gray)\n",
    "        img = np.reshape(img, img.shape + (1,)) if image_as_gray else img\n",
    "        mask = io.imread(item.replace(image_path, mask_path).replace(image_prefix, mask_prefix), as_gray = mask_as_gray)\n",
    "        mask = np.reshape(mask, mask.shape + (1,)) if mask_as_gray else mask\n",
    "        img, mask = adjustData(img, mask, flag_multi_class, num_class)\n",
    "        image_arr.append(img)\n",
    "        mask_arr.append(mask)\n",
    "    image_arr = np.array(image_arr)\n",
    "    mask_arr = np.array(mask_arr)\n",
    "    return image_arr, mask_arr"
   ]
  },
  {
   "cell_type": "code",
   "execution_count": 7,
   "metadata": {},
   "outputs": [],
   "source": [
    "def labelVisualize(num_class, color_dict, img):\n",
    "    img = img[:, :, 0] if len(img.shape) == 3 else img\n",
    "    img_out = np.zeros(img.shape + (3,))\n",
    "    for i in range(num_class):\n",
    "        img_out[img == i,:] = color_dict[i]\n",
    "    return img_out / 255"
   ]
  },
  {
   "cell_type": "code",
   "execution_count": 8,
   "metadata": {},
   "outputs": [],
   "source": [
    "def saveResult(save_path, npyfile, flag_multi_class = False, num_class = 2):\n",
    "    for i, item in enumerate(npyfile):\n",
    "        img = labelVisualize(num_class, COLOR_DICT, item) if flag_multi_class else item[:, :, 0]\n",
    "        io.imsave(os.path.join(save_path, '%d_predict.png'%i), img)"
   ]
  }
 ],
 "metadata": {
  "kernelspec": {
   "display_name": "Python 3",
   "language": "python",
   "name": "python3"
  },
  "language_info": {
   "codemirror_mode": {
    "name": "ipython",
    "version": 3
   },
   "file_extension": ".py",
   "mimetype": "text/x-python",
   "name": "python",
   "nbconvert_exporter": "python",
   "pygments_lexer": "ipython3",
   "version": "3.6.4"
  }
 },
 "nbformat": 4,
 "nbformat_minor": 2
}
