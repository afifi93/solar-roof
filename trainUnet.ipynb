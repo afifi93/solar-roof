{
 "cells": [
  {
   "cell_type": "code",
   "execution_count": null,
   "metadata": {},
   "outputs": [
    {
     "name": "stderr",
     "output_type": "stream",
     "text": [
      "Using TensorFlow backend.\n"
     ]
    }
   ],
   "source": [
    "%run Unet_v1.ipynb\n",
    "%run Preprocess.ipynb"
   ]
  },
  {
   "cell_type": "code",
   "execution_count": null,
   "metadata": {},
   "outputs": [
    {
     "name": "stdout",
     "output_type": "stream",
     "text": [
      "conv1 shape: (?, 256, 256, 64)\n",
      "conv1 shape: (?, 256, 256, 64)\n",
      "pool1 shape: (?, 128, 128, 64)\n",
      "conv2 shape: (?, 128, 128, 128)\n",
      "conv2 shape: (?, 128, 128, 128)\n",
      "pool2 shape: (?, 64, 64, 128)\n",
      "conv3 shape: (?, 64, 64, 256)\n",
      "conv3 shape: (?, 64, 64, 256)\n",
      "pool3 shape: (?, 32, 32, 256)\n"
     ]
    },
    {
     "name": "stderr",
     "output_type": "stream",
     "text": [
      "/Users/JuliaChen/anaconda3/lib/python3.6/site-packages/ipykernel_launcher.py:61: UserWarning: Update your `Model` call to the Keras 2 API: `Model(inputs=Tensor(\"in..., outputs=Tensor(\"co...)`\n"
     ]
    },
    {
     "name": "stdout",
     "output_type": "stream",
     "text": [
      "Epoch 1/5\n",
      "Found 6 images belonging to 1 classes.\n",
      "Found 6 images belonging to 1 classes.\n",
      "  32/2000 [..............................] - ETA: 14:43:23 - loss: 0.6929 - acc: 0.7398"
     ]
    }
   ],
   "source": [
    "data_gen_args = dict(rotation_range = 0.2, \n",
    "                    width_shift_range = 0.05, \n",
    "                    height_shift_range = 0.05, \n",
    "                    shear_range = 0.05, \n",
    "                    zoom_range = 0.05, \n",
    "                    horizontal_flip = True, \n",
    "                    fill_mode = 'nearest')\n",
    "myGene = trainGenerator(2, 'Data/aerialsample/Train', 'images', 'gt', data_gen_args, save_to_dir = 'Data/aerialsample/Train')\n",
    "model = unet()\n",
    "model_checkpoint = ModelCheckpoint('unet_aerial.hdf5', monitor = 'loss', verbose = 1, save_best_only = True)\n",
    "model.fit_generator(myGene, steps_per_epoch = 2000, epochs = 5, callbacks = [model_checkpoint])"
   ]
  },
  {
   "cell_type": "code",
   "execution_count": null,
   "metadata": {},
   "outputs": [],
   "source": [
    "testGene = testGenerator('Data/aerialsample/test')\n",
    "model = unet()\n",
    "model.load_weights('unet_aerial.hdf5')\n",
    "results = model.predict_generator(testGene, 30, verbose = 1)\n",
    "saveResult('Data/aerialsample/test', results)"
   ]
  }
 ],
 "metadata": {
  "kernelspec": {
   "display_name": "Python 3",
   "language": "python",
   "name": "python3"
  },
  "language_info": {
   "codemirror_mode": {
    "name": "ipython",
    "version": 3
   },
   "file_extension": ".py",
   "mimetype": "text/x-python",
   "name": "python",
   "nbconvert_exporter": "python",
   "pygments_lexer": "ipython3",
   "version": "3.6.4"
  }
 },
 "nbformat": 4,
 "nbformat_minor": 2
}
